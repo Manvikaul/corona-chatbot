{
  "nbformat": 4,
  "nbformat_minor": 0,
  "metadata": {
    "colab": {
      "name": "chatbot_improved.ipynb",
      "provenance": [],
      "authorship_tag": "ABX9TyM9qHkI8ATLZr2IsamfqpR1",
      "include_colab_link": true
    },
    "kernelspec": {
      "name": "python3",
      "display_name": "Python 3"
    }
  },
  "cells": [
    {
      "cell_type": "markdown",
      "metadata": {
        "id": "view-in-github",
        "colab_type": "text"
      },
      "source": [
        "<a href=\"https://colab.research.google.com/github/Manvikaul/corona-chatbot/blob/master/chatbot_improved.ipynb\" target=\"_parent\"><img src=\"https://colab.research.google.com/assets/colab-badge.svg\" alt=\"Open In Colab\"/></a>"
      ]
    },
    {
      "cell_type": "code",
      "metadata": {
        "id": "g9aTSOlv-jUg",
        "colab_type": "code",
        "outputId": "8bdc6ff3-f297-4241-ea8f-d938b26bd1d5",
        "colab": {
          "base_uri": "https://localhost:8080/",
          "height": 51
        }
      },
      "source": [
        "pip install nltk"
      ],
      "execution_count": 1,
      "outputs": [
        {
          "output_type": "stream",
          "text": [
            "Requirement already satisfied: nltk in /usr/local/lib/python3.6/dist-packages (3.2.5)\n",
            "Requirement already satisfied: six in /usr/local/lib/python3.6/dist-packages (from nltk) (1.12.0)\n"
          ],
          "name": "stdout"
        }
      ]
    },
    {
      "cell_type": "code",
      "metadata": {
        "id": "Z5MmH0sd__S0",
        "colab_type": "code",
        "outputId": "6e7e220a-26fe-4f36-ccbe-97ddc00bd2e7",
        "colab": {
          "base_uri": "https://localhost:8080/",
          "height": 870
        }
      },
      "source": [
        "pip install newspaper3k"
      ],
      "execution_count": 2,
      "outputs": [
        {
          "output_type": "stream",
          "text": [
            "Collecting newspaper3k\n",
            "\u001b[?25l  Downloading https://files.pythonhosted.org/packages/d7/b9/51afecb35bb61b188a4b44868001de348a0e8134b4dfa00ffc191567c4b9/newspaper3k-0.2.8-py3-none-any.whl (211kB)\n",
            "\r\u001b[K     |█▌                              | 10kB 16.7MB/s eta 0:00:01\r\u001b[K     |███                             | 20kB 1.8MB/s eta 0:00:01\r\u001b[K     |████▋                           | 30kB 2.1MB/s eta 0:00:01\r\u001b[K     |██████▏                         | 40kB 1.6MB/s eta 0:00:01\r\u001b[K     |███████▊                        | 51kB 1.8MB/s eta 0:00:01\r\u001b[K     |█████████▎                      | 61kB 2.2MB/s eta 0:00:01\r\u001b[K     |██████████▉                     | 71kB 2.4MB/s eta 0:00:01\r\u001b[K     |████████████▍                   | 81kB 2.5MB/s eta 0:00:01\r\u001b[K     |██████████████                  | 92kB 2.8MB/s eta 0:00:01\r\u001b[K     |███████████████▌                | 102kB 2.7MB/s eta 0:00:01\r\u001b[K     |█████████████████               | 112kB 2.7MB/s eta 0:00:01\r\u001b[K     |██████████████████▋             | 122kB 2.7MB/s eta 0:00:01\r\u001b[K     |████████████████████▏           | 133kB 2.7MB/s eta 0:00:01\r\u001b[K     |█████████████████████▊          | 143kB 2.7MB/s eta 0:00:01\r\u001b[K     |███████████████████████▎        | 153kB 2.7MB/s eta 0:00:01\r\u001b[K     |████████████████████████▉       | 163kB 2.7MB/s eta 0:00:01\r\u001b[K     |██████████████████████████▍     | 174kB 2.7MB/s eta 0:00:01\r\u001b[K     |████████████████████████████    | 184kB 2.7MB/s eta 0:00:01\r\u001b[K     |█████████████████████████████▌  | 194kB 2.7MB/s eta 0:00:01\r\u001b[K     |███████████████████████████████ | 204kB 2.7MB/s eta 0:00:01\r\u001b[K     |████████████████████████████████| 215kB 2.7MB/s \n",
            "\u001b[?25hCollecting jieba3k>=0.35.1\n",
            "\u001b[?25l  Downloading https://files.pythonhosted.org/packages/a9/cb/2c8332bcdc14d33b0bedd18ae0a4981a069c3513e445120da3c3f23a8aaa/jieba3k-0.35.1.zip (7.4MB)\n",
            "\u001b[K     |████████████████████████████████| 7.4MB 97kB/s \n",
            "\u001b[?25hRequirement already satisfied: Pillow>=3.3.0 in /usr/local/lib/python3.6/dist-packages (from newspaper3k) (7.0.0)\n",
            "Requirement already satisfied: requests>=2.10.0 in /usr/local/lib/python3.6/dist-packages (from newspaper3k) (2.23.0)\n",
            "Collecting feedfinder2>=0.0.4\n",
            "  Downloading https://files.pythonhosted.org/packages/35/82/1251fefec3bb4b03fd966c7e7f7a41c9fc2bb00d823a34c13f847fd61406/feedfinder2-0.0.4.tar.gz\n",
            "Collecting tldextract>=2.0.1\n",
            "\u001b[?25l  Downloading https://files.pythonhosted.org/packages/fd/0e/9ab599d6e78f0340bb1d1e28ddeacb38c8bb7f91a1b0eae9a24e9603782f/tldextract-2.2.2-py2.py3-none-any.whl (48kB)\n",
            "\u001b[K     |████████████████████████████████| 51kB 7.0MB/s \n",
            "\u001b[?25hRequirement already satisfied: python-dateutil>=2.5.3 in /usr/local/lib/python3.6/dist-packages (from newspaper3k) (2.8.1)\n",
            "Collecting tinysegmenter==0.3\n",
            "  Downloading https://files.pythonhosted.org/packages/17/82/86982e4b6d16e4febc79c2a1d68ee3b707e8a020c5d2bc4af8052d0f136a/tinysegmenter-0.3.tar.gz\n",
            "Collecting feedparser>=5.2.1\n",
            "\u001b[?25l  Downloading https://files.pythonhosted.org/packages/91/d8/7d37fec71ff7c9dbcdd80d2b48bcdd86d6af502156fc93846fb0102cb2c4/feedparser-5.2.1.tar.bz2 (192kB)\n",
            "\u001b[K     |████████████████████████████████| 194kB 45.1MB/s \n",
            "\u001b[?25hRequirement already satisfied: lxml>=3.6.0 in /usr/local/lib/python3.6/dist-packages (from newspaper3k) (4.2.6)\n",
            "Collecting cssselect>=0.9.2\n",
            "  Downloading https://files.pythonhosted.org/packages/3b/d4/3b5c17f00cce85b9a1e6f91096e1cc8e8ede2e1be8e96b87ce1ed09e92c5/cssselect-1.1.0-py2.py3-none-any.whl\n",
            "Requirement already satisfied: nltk>=3.2.1 in /usr/local/lib/python3.6/dist-packages (from newspaper3k) (3.2.5)\n",
            "Requirement already satisfied: beautifulsoup4>=4.4.1 in /usr/local/lib/python3.6/dist-packages (from newspaper3k) (4.6.3)\n",
            "Requirement already satisfied: PyYAML>=3.11 in /usr/local/lib/python3.6/dist-packages (from newspaper3k) (3.13)\n",
            "Requirement already satisfied: chardet<4,>=3.0.2 in /usr/local/lib/python3.6/dist-packages (from requests>=2.10.0->newspaper3k) (3.0.4)\n",
            "Requirement already satisfied: certifi>=2017.4.17 in /usr/local/lib/python3.6/dist-packages (from requests>=2.10.0->newspaper3k) (2020.4.5.1)\n",
            "Requirement already satisfied: urllib3!=1.25.0,!=1.25.1,<1.26,>=1.21.1 in /usr/local/lib/python3.6/dist-packages (from requests>=2.10.0->newspaper3k) (1.24.3)\n",
            "Requirement already satisfied: idna<3,>=2.5 in /usr/local/lib/python3.6/dist-packages (from requests>=2.10.0->newspaper3k) (2.9)\n",
            "Requirement already satisfied: six in /usr/local/lib/python3.6/dist-packages (from feedfinder2>=0.0.4->newspaper3k) (1.12.0)\n",
            "Collecting requests-file>=1.4\n",
            "  Downloading https://files.pythonhosted.org/packages/77/86/cdb5e8eaed90796aa83a6d9f75cfbd37af553c47a291cd47bc410ef9bdb2/requests_file-1.5.1-py2.py3-none-any.whl\n",
            "Requirement already satisfied: setuptools in /usr/local/lib/python3.6/dist-packages (from tldextract>=2.0.1->newspaper3k) (46.1.3)\n",
            "Building wheels for collected packages: jieba3k, feedfinder2, tinysegmenter, feedparser\n",
            "  Building wheel for jieba3k (setup.py) ... \u001b[?25l\u001b[?25hdone\n",
            "  Created wheel for jieba3k: filename=jieba3k-0.35.1-cp36-none-any.whl size=7398406 sha256=b29f7a2c1e7237c0f8cd0a868597a829bf5c30a6ea9a2eea733af1e6b473072e\n",
            "  Stored in directory: /root/.cache/pip/wheels/83/15/9c/a3f1f67e7f7181170ad37d32e503c35da20627c013f438ed34\n",
            "  Building wheel for feedfinder2 (setup.py) ... \u001b[?25l\u001b[?25hdone\n",
            "  Created wheel for feedfinder2: filename=feedfinder2-0.0.4-cp36-none-any.whl size=3357 sha256=153eecd4552150f128af778d4a58c1e57f5a8509bba18927b0cc11bac11ba8dd\n",
            "  Stored in directory: /root/.cache/pip/wheels/de/03/ca/778e3a7a627e3d98836cc890e7cb40c7575424cfd3340f40ed\n",
            "  Building wheel for tinysegmenter (setup.py) ... \u001b[?25l\u001b[?25hdone\n",
            "  Created wheel for tinysegmenter: filename=tinysegmenter-0.3-cp36-none-any.whl size=13539 sha256=19cf6b9494a26965a73d037a1619080fc1487fb5e50a4d3816f047ccb8c89dce\n",
            "  Stored in directory: /root/.cache/pip/wheels/81/2b/43/a02ede72324dd40cdd7ca53aad718c7710628e91b8b0dc0f02\n",
            "  Building wheel for feedparser (setup.py) ... \u001b[?25l\u001b[?25hdone\n",
            "  Created wheel for feedparser: filename=feedparser-5.2.1-cp36-none-any.whl size=44940 sha256=bedd8bda1413a79af5dae5bd39c18bc7682370500825727a53383fd7e41503ba\n",
            "  Stored in directory: /root/.cache/pip/wheels/8c/69/b7/f52763c41c5471df57703a0ef718a32a5e81ee35dcf6d4f97f\n",
            "Successfully built jieba3k feedfinder2 tinysegmenter feedparser\n",
            "Installing collected packages: jieba3k, feedfinder2, requests-file, tldextract, tinysegmenter, feedparser, cssselect, newspaper3k\n",
            "Successfully installed cssselect-1.1.0 feedfinder2-0.0.4 feedparser-5.2.1 jieba3k-0.35.1 newspaper3k-0.2.8 requests-file-1.5.1 tinysegmenter-0.3 tldextract-2.2.2\n"
          ],
          "name": "stdout"
        }
      ]
    },
    {
      "cell_type": "code",
      "metadata": {
        "id": "7wBvZdq2AHQq",
        "colab_type": "code",
        "colab": {}
      },
      "source": [
        "#IMPORTS\n",
        "from newspaper import Article\n",
        "import random\n",
        "import string\n",
        "from sklearn.feature_extraction.text import TfidfVectorizer\n",
        "from sklearn.metrics.pairwise import cosine_similarity\n",
        "import nltk\n",
        "import numpy as np\n",
        "import warnings"
      ],
      "execution_count": 0,
      "outputs": []
    },
    {
      "cell_type": "code",
      "metadata": {
        "id": "AaAkVEI4KUHA",
        "colab_type": "code",
        "colab": {}
      },
      "source": [
        "#Ignoring warnings\n",
        "warnings.filterwarnings('ignore')"
      ],
      "execution_count": 0,
      "outputs": []
    },
    {
      "cell_type": "code",
      "metadata": {
        "id": "umANhsMjKuaK",
        "colab_type": "code",
        "outputId": "8500a4a9-855c-405e-974b-0e1563999e65",
        "colab": {
          "base_uri": "https://localhost:8080/",
          "height": 102
        }
      },
      "source": [
        "nltk.download('punkt')\n",
        "nltk.download('wordnet')"
      ],
      "execution_count": 5,
      "outputs": [
        {
          "output_type": "stream",
          "text": [
            "[nltk_data] Downloading package punkt to /root/nltk_data...\n",
            "[nltk_data]   Unzipping tokenizers/punkt.zip.\n",
            "[nltk_data] Downloading package wordnet to /root/nltk_data...\n",
            "[nltk_data]   Unzipping corpora/wordnet.zip.\n"
          ],
          "name": "stdout"
        },
        {
          "output_type": "execute_result",
          "data": {
            "text/plain": [
              "True"
            ]
          },
          "metadata": {
            "tags": []
          },
          "execution_count": 5
        }
      ]
    },
    {
      "cell_type": "code",
      "metadata": {
        "id": "Wv1WNTJ-XC1z",
        "colab_type": "code",
        "outputId": "efc75c77-ee4c-4f69-e1a0-0f749f4661c5",
        "colab": {
          "base_uri": "https://localhost:8080/",
          "height": 1000
        }
      },
      "source": [
        "#article=Article('https://www.resmed.com/in/en/consumer/blogs/coronavirus-infection.html')\n",
        "article=Article('https://www.medicalnewstoday.com/articles/256521')\n",
        "article.download()\n",
        "article.parse()\n",
        "article.nlp()\n",
        "\n",
        "corpus=article.text\n",
        "\n",
        "print(corpus)"
      ],
      "execution_count": 6,
      "outputs": [
        {
          "output_type": "stream",
          "text": [
            "This article was updated on May 7, 2020 Coronaviruses typically affect the respiratory tracts of birds and mammals, including humans. Doctors associate them with the common cold, bronchitis, pneumonia, severe acute respiratory syndrome (SARS), and coronavirus disease 2019 (COVID-19). These viruses can also affect the gut. Coronaviruses usually cause the common cold, though they can be responsible for more severe illnesses. Over the past 70 years, scientists have found that these viruses can infect mice, rats, dogs, cats, turkeys, horses, pigs, and cattle. Sometimes, these animals transmit the viruses to humans. Most recently, authorities identified a new coronavirus outbreak in China that has now reached other countries. The virus is called severe acute respiratory syndrome coronavirus 2 (SARS-CoV-2) and it can cause COVID-19. In this article, we explain the different types of human coronavirus, their symptoms, and how people transmit them. We also focus on three particularly dangerous diseases caused by coronaviruses: COVID-19, SARS, and Middle East respiratory syndrome (MERS). Stay informed with live updates on the current COVID-19 outbreak and visit our coronavirus hub for more advice on prevention and treatment.\n",
            "\n",
            "What is a coronavirus? Share on Pinterest Covering the mouth when sneezing can help stop the spread of coronaviruses. Researchers first identified a coronavirus in 1937, isolating one that was responsible for a type of bronchitis in birds that had the potential to devastate poultry stocks. Scientists found evidence of human coronaviruses in the 1960s, in the noses of people with the common cold.\n",
            "\n",
            "\n",
            "\n",
            "Human coronaviruses that are particularly prevalent include 229E, NL63, OC43, and HKU1. The name “coronavirus” comes from the crown-like projections on their surfaces. “Corona” in Latin means “halo” or “crown.” Among humans, coronavirus infections most often occur during the winter months and early spring.\n",
            "\n",
            "COVID-19 In 2019, the Centers for Disease Control and Prevention (CDC) started monitoring the outbreak of a new coronavirus, SARS-CoV-2, which causes COVID-19. Authorities first identified the virus in Wuhan, China. Since then, the virus has spread to nearly every country, leading the World Health Organization (WHO) to declare a pandemic. The new coronavirus has been responsible for millions of infections globally, causing hundreds of thousands of deaths. The United States has seen the highest number of these deaths. The first people with COVID-19 had links to an animal and seafood market. This suggests that animals initially transmitted the virus to humans. Then, people with no connections to the market developed the disease, confirming that humans can pass the virus to each other. Read about how pangolins could be the source of COVID-19 here. On February 17, 2020, the director-general of the WHO presented the following updated estimates of the severity of COVID-19 cases, using data from 44,000 people who had received confirmed diagnoses: Stage of severity Rough percentage of people with COVID-19 mild disease more than 80% severe disease, causing breathlessness and pneumonia around 14% critical disease, causing septic shock, respiratory failure, and the failure of more than one organ about 5% fatal disease 2% The WHO report that the two groups most at risk of experiencing severe illness due to a SARS-CoV-2 infection are older adults and people who have other health conditions that compromise their immune systems. According to the CDC, children are not at higher risk of COVID-19 than adults. Although there are currently no published scientific reports about the susceptibility of pregnant women, the CDC note that:\n",
            "\n",
            "\n",
            "\n",
            "“Pregnant [women] have had a higher risk of severe illness when infected with viruses from the same family as [those that cause] COVID-19 and other viral respiratory infections.” The CDC also recommend that infants born to women with suspected or confirmed COVID-19 are put into isolation. Symptoms of COVID-19 According to the CDC, people may start to experience symptoms 2–14 days after exposure to the virus.\n",
            "\n",
            "\n",
            "\n",
            "The primary symptoms are a cough and shortness of breath or difficulty breathing. However, according to the CDC, a person with neither of those symptoms may still have COVID-19 if they experience at least two of the following: a fever\n",
            "\n",
            "chills\n",
            "\n",
            "repeated shaking with chills\n",
            "\n",
            "muscle pain\n",
            "\n",
            "a headache\n",
            "\n",
            "a sore throat\n",
            "\n",
            "new loss of taste or smell No vaccine is currently available for COVID-19. However, scientists have now replicated the virus. This could allow for early detection and treatment in people who have the virus but are not experiencing symptoms. According to the CDC, the following groups have a higher risk of developing serious illness from COVID-19: people aged 65 years or older\n",
            "\n",
            "people living in nursing homes or care facilities\n",
            "\n",
            "people of any age who have serious underlying medical conditions, including chronic lung disease, serious heart conditions, severe obesity, a compromised immune system, or diabetes The CDC note that although there have been reports of complications in young children, these are rare. COVID-19 most commonly produces mild symptoms in children.\n",
            "\n",
            "General symptoms of coronavirus infections Cold- or flu-like symptoms usually set in around 2–4 days after the infection develops. Typically, the symptoms are mild, though they vary from person to person. In some people, coronavirus infections are fatal. Symptoms may include: a runny nose\n",
            "\n",
            "a headache\n",
            "\n",
            "a cough\n",
            "\n",
            "a fever\n",
            "\n",
            "a sore throat\n",
            "\n",
            "generally feeling unwell While scientists can easily cultivate rhinoviruses — which also cause the common cold — in the laboratory, this is not the case with coronaviruses. This makes it difficult to gauge the impact of these pathogens. There is currently no cure for the cold-like illnesses caused by coronaviruses. Treatments include self-care and over-the-counter medications. Taking the following steps may help: resting and avoiding overexertion\n",
            "\n",
            "drinking plenty of water\n",
            "\n",
            "avoiding smoking and smoky areas\n",
            "\n",
            "taking acetaminophen (Tylenol) to reduce pain and a fever\n",
            "\n",
            "using a clean humidifier or cool mist vaporizer A doctor can identify the virus responsible in a sample of fluid from a person’s body, such as a sample of blood or mucus from the nose.\n",
            "\n",
            "Types Coronaviruses belong to the subfamily Coronavirinae in the family Coronaviridae. Different types of coronavirus vary, in terms of the severity of disease that they cause and how far they spread. Doctors currently recognize seven types of coronavirus that can infect humans. Common types include: 229E (alpha coronavirus)\n",
            "\n",
            "NL63 (alpha coronavirus)\n",
            "\n",
            "OC43 (beta coronavirus)\n",
            "\n",
            "HKU1 (beta coronavirus) Rarer strains that cause more severe illnesses include MERS-CoV, which causes the disease MERS, and SARS-CoV, the virus responsible for SARS. In 2019, a new strain, called SARS-CoV-2, started circulating, causing the disease COVID-19.\n",
            "\n",
            "Transmission The CDC recommend that all people wear cloth face masks in public places where it is difficult to maintain a 6-foot (2-meter) distance from others. This will help slow the spread of the virus from asymptomatic people and people who do not know that they have contracted it. People should wear cloth face masks while continuing to practice physical distancing. Instructions for making masks at home are available here. Note: It is critical that surgical masks and N95 respirators are reserved for healthcare workers. Researchers believe that the viruses transmit via fluids in the respiratory system, such as mucus. For example, a coronavirus can spread when a person: coughs or sneezes without covering their mouth, dispersing droplets into the air\n",
            "\n",
            "touches someone who has the infection\n",
            "\n",
            "touches a surface that has the virus, then touches their own nose, eyes, or mouth Some animal coronaviruses may spread to humans through contact with feces, though it is unclear whether human coronaviruses can spread in the same way. Coronaviruses will infect most people at some point. To prevent transmission, people with symptoms should stay at home, rest, and avoid coming into close contact with other people. Covering the mouth and nose with a tissue or handkerchief while coughing or sneezing can also help prevent transmission. It is important to dispose of used tissues right away and maintain proper hygiene around the home.\n",
            "\n",
            "SARS SARS is a contagious disease that develops from infection with the SARS-CoV coronavirus. It can lead to a life threatening form of pneumonia. In November 2002, the virus started circulating in the Guangdong province of southern China, eventually reaching Hong Kong. From there, it rapidly spread, causing infections in more than 24 countries. SARS-CoV can infect both the upper and lower respiratory tract. The symptoms of SARS develop over 1 week and start with a fever. Early on, people develop flu-like symptoms, such as: a dry cough\n",
            "\n",
            "chills\n",
            "\n",
            "diarrhea\n",
            "\n",
            "breathlessness\n",
            "\n",
            "aches Pneumonia, a severe lung infection, usually develops. At its most advanced stage, SARS causes failure of the lungs, heart, or liver. According to the CDC, authorities reported that 8,098 people contracted SARS during the outbreak. Among these people, 774 died of the disease. This indicates a mortality rate of 9.6%. Complications are more common among older adults. According to one source, more than half of those who died from the infection were over the age of 65. Authorities eventually controlled SARS in July 2003.\n"
          ],
          "name": "stdout"
        }
      ]
    },
    {
      "cell_type": "code",
      "metadata": {
        "id": "6Zz_KIJ-YWPp",
        "colab_type": "code",
        "outputId": "aa5b0ccd-151b-4600-ff75-eaf810e13999",
        "colab": {
          "base_uri": "https://localhost:8080/",
          "height": 54
        }
      },
      "source": [
        "text=corpus\n",
        "sent_tokens=nltk.sent_tokenize(text)\n",
        "\n",
        "print(sent_tokens)"
      ],
      "execution_count": 7,
      "outputs": [
        {
          "output_type": "stream",
          "text": [
            "['This article was updated on May 7, 2020 Coronaviruses typically affect the respiratory tracts of birds and mammals, including humans.', 'Doctors associate them with the common cold, bronchitis, pneumonia, severe acute respiratory syndrome (SARS), and coronavirus disease 2019 (COVID-19).', 'These viruses can also affect the gut.', 'Coronaviruses usually cause the common cold, though they can be responsible for more severe illnesses.', 'Over the past 70 years, scientists have found that these viruses can infect mice, rats, dogs, cats, turkeys, horses, pigs, and cattle.', 'Sometimes, these animals transmit the viruses to humans.', 'Most recently, authorities identified a new coronavirus outbreak in China that has now reached other countries.', 'The virus is called severe acute respiratory syndrome coronavirus 2 (SARS-CoV-2) and it can cause COVID-19.', 'In this article, we explain the different types of human coronavirus, their symptoms, and how people transmit them.', 'We also focus on three particularly dangerous diseases caused by coronaviruses: COVID-19, SARS, and Middle East respiratory syndrome (MERS).', 'Stay informed with live updates on the current COVID-19 outbreak and visit our coronavirus hub for more advice on prevention and treatment.', 'What is a coronavirus?', 'Share on Pinterest Covering the mouth when sneezing can help stop the spread of coronaviruses.', 'Researchers first identified a coronavirus in 1937, isolating one that was responsible for a type of bronchitis in birds that had the potential to devastate poultry stocks.', 'Scientists found evidence of human coronaviruses in the 1960s, in the noses of people with the common cold.', 'Human coronaviruses that are particularly prevalent include 229E, NL63, OC43, and HKU1.', 'The name “coronavirus” comes from the crown-like projections on their surfaces.', '“Corona” in Latin means “halo” or “crown.” Among humans, coronavirus infections most often occur during the winter months and early spring.', 'COVID-19 In 2019, the Centers for Disease Control and Prevention (CDC) started monitoring the outbreak of a new coronavirus, SARS-CoV-2, which causes COVID-19.', 'Authorities first identified the virus in Wuhan, China.', 'Since then, the virus has spread to nearly every country, leading the World Health Organization (WHO) to declare a pandemic.', 'The new coronavirus has been responsible for millions of infections globally, causing hundreds of thousands of deaths.', 'The United States has seen the highest number of these deaths.', 'The first people with COVID-19 had links to an animal and seafood market.', 'This suggests that animals initially transmitted the virus to humans.', 'Then, people with no connections to the market developed the disease, confirming that humans can pass the virus to each other.', 'Read about how pangolins could be the source of COVID-19 here.', 'On February 17, 2020, the director-general of the WHO presented the following updated estimates of the severity of COVID-19 cases, using data from 44,000 people who had received confirmed diagnoses: Stage of severity Rough percentage of people with COVID-19 mild disease more than 80% severe disease, causing breathlessness and pneumonia around 14% critical disease, causing septic shock, respiratory failure, and the failure of more than one organ about 5% fatal disease 2% The WHO report that the two groups most at risk of experiencing severe illness due to a SARS-CoV-2 infection are older adults and people who have other health conditions that compromise their immune systems.', 'According to the CDC, children are not at higher risk of COVID-19 than adults.', 'Although there are currently no published scientific reports about the susceptibility of pregnant women, the CDC note that:\\n\\n\\n\\n“Pregnant [women] have had a higher risk of severe illness when infected with viruses from the same family as [those that cause] COVID-19 and other viral respiratory infections.” The CDC also recommend that infants born to women with suspected or confirmed COVID-19 are put into isolation.', 'Symptoms of COVID-19 According to the CDC, people may start to experience symptoms 2–14 days after exposure to the virus.', 'The primary symptoms are a cough and shortness of breath or difficulty breathing.', 'However, according to the CDC, a person with neither of those symptoms may still have COVID-19 if they experience at least two of the following: a fever\\n\\nchills\\n\\nrepeated shaking with chills\\n\\nmuscle pain\\n\\na headache\\n\\na sore throat\\n\\nnew loss of taste or smell No vaccine is currently available for COVID-19.', 'However, scientists have now replicated the virus.', 'This could allow for early detection and treatment in people who have the virus but are not experiencing symptoms.', 'According to the CDC, the following groups have a higher risk of developing serious illness from COVID-19: people aged 65 years or older\\n\\npeople living in nursing homes or care facilities\\n\\npeople of any age who have serious underlying medical conditions, including chronic lung disease, serious heart conditions, severe obesity, a compromised immune system, or diabetes The CDC note that although there have been reports of complications in young children, these are rare.', 'COVID-19 most commonly produces mild symptoms in children.', 'General symptoms of coronavirus infections Cold- or flu-like symptoms usually set in around 2–4 days after the infection develops.', 'Typically, the symptoms are mild, though they vary from person to person.', 'In some people, coronavirus infections are fatal.', 'Symptoms may include: a runny nose\\n\\na headache\\n\\na cough\\n\\na fever\\n\\na sore throat\\n\\ngenerally feeling unwell While scientists can easily cultivate rhinoviruses — which also cause the common cold — in the laboratory, this is not the case with coronaviruses.', 'This makes it difficult to gauge the impact of these pathogens.', 'There is currently no cure for the cold-like illnesses caused by coronaviruses.', 'Treatments include self-care and over-the-counter medications.', 'Taking the following steps may help: resting and avoiding overexertion\\n\\ndrinking plenty of water\\n\\navoiding smoking and smoky areas\\n\\ntaking acetaminophen (Tylenol) to reduce pain and a fever\\n\\nusing a clean humidifier or cool mist vaporizer A doctor can identify the virus responsible in a sample of fluid from a person’s body, such as a sample of blood or mucus from the nose.', 'Types Coronaviruses belong to the subfamily Coronavirinae in the family Coronaviridae.', 'Different types of coronavirus vary, in terms of the severity of disease that they cause and how far they spread.', 'Doctors currently recognize seven types of coronavirus that can infect humans.', 'Common types include: 229E (alpha coronavirus)\\n\\nNL63 (alpha coronavirus)\\n\\nOC43 (beta coronavirus)\\n\\nHKU1 (beta coronavirus) Rarer strains that cause more severe illnesses include MERS-CoV, which causes the disease MERS, and SARS-CoV, the virus responsible for SARS.', 'In 2019, a new strain, called SARS-CoV-2, started circulating, causing the disease COVID-19.', 'Transmission The CDC recommend that all people wear cloth face masks in public places where it is difficult to maintain a 6-foot (2-meter) distance from others.', 'This will help slow the spread of the virus from asymptomatic people and people who do not know that they have contracted it.', 'People should wear cloth face masks while continuing to practice physical distancing.', 'Instructions for making masks at home are available here.', 'Note: It is critical that surgical masks and N95 respirators are reserved for healthcare workers.', 'Researchers believe that the viruses transmit via fluids in the respiratory system, such as mucus.', 'For example, a coronavirus can spread when a person: coughs or sneezes without covering their mouth, dispersing droplets into the air\\n\\ntouches someone who has the infection\\n\\ntouches a surface that has the virus, then touches their own nose, eyes, or mouth Some animal coronaviruses may spread to humans through contact with feces, though it is unclear whether human coronaviruses can spread in the same way.', 'Coronaviruses will infect most people at some point.', 'To prevent transmission, people with symptoms should stay at home, rest, and avoid coming into close contact with other people.', 'Covering the mouth and nose with a tissue or handkerchief while coughing or sneezing can also help prevent transmission.', 'It is important to dispose of used tissues right away and maintain proper hygiene around the home.', 'SARS SARS is a contagious disease that develops from infection with the SARS-CoV coronavirus.', 'It can lead to a life threatening form of pneumonia.', 'In November 2002, the virus started circulating in the Guangdong province of southern China, eventually reaching Hong Kong.', 'From there, it rapidly spread, causing infections in more than 24 countries.', 'SARS-CoV can infect both the upper and lower respiratory tract.', 'The symptoms of SARS develop over 1 week and start with a fever.', 'Early on, people develop flu-like symptoms, such as: a dry cough\\n\\nchills\\n\\ndiarrhea\\n\\nbreathlessness\\n\\naches Pneumonia, a severe lung infection, usually develops.', 'At its most advanced stage, SARS causes failure of the lungs, heart, or liver.', 'According to the CDC, authorities reported that 8,098 people contracted SARS during the outbreak.', 'Among these people, 774 died of the disease.', 'This indicates a mortality rate of 9.6%.', 'Complications are more common among older adults.', 'According to one source, more than half of those who died from the infection were over the age of 65.', 'Authorities eventually controlled SARS in July 2003.']\n"
          ],
          "name": "stdout"
        }
      ]
    },
    {
      "cell_type": "code",
      "metadata": {
        "id": "2jtbnkdBbZpb",
        "colab_type": "code",
        "outputId": "a20fd6f1-de28-4b34-8629-7aae3456d29c",
        "colab": {
          "base_uri": "https://localhost:8080/",
          "height": 34
        }
      },
      "source": [
        "remove_punct_dict=dict((ord(punct),None) for punct in string.punctuation)\n",
        "\n",
        "print(string.punctuation)"
      ],
      "execution_count": 8,
      "outputs": [
        {
          "output_type": "stream",
          "text": [
            "!\"#$%&'()*+,-./:;<=>?@[\\]^_`{|}~\n"
          ],
          "name": "stdout"
        }
      ]
    },
    {
      "cell_type": "code",
      "metadata": {
        "id": "5JDptqPWczFo",
        "colab_type": "code",
        "outputId": "5a0c2d2d-15eb-4645-dbac-d98d7dd0d944",
        "colab": {
          "base_uri": "https://localhost:8080/",
          "height": 54
        }
      },
      "source": [
        "print(remove_punct_dict)"
      ],
      "execution_count": 9,
      "outputs": [
        {
          "output_type": "stream",
          "text": [
            "{33: None, 34: None, 35: None, 36: None, 37: None, 38: None, 39: None, 40: None, 41: None, 42: None, 43: None, 44: None, 45: None, 46: None, 47: None, 58: None, 59: None, 60: None, 61: None, 62: None, 63: None, 64: None, 91: None, 92: None, 93: None, 94: None, 95: None, 96: None, 123: None, 124: None, 125: None, 126: None}\n"
          ],
          "name": "stdout"
        }
      ]
    },
    {
      "cell_type": "code",
      "metadata": {
        "id": "oFPX_gNPcXLa",
        "colab_type": "code",
        "outputId": "1ce4918c-d7fb-420b-ffec-8e4c308adadd",
        "colab": {
          "base_uri": "https://localhost:8080/",
          "height": 54
        }
      },
      "source": [
        "def LemNormalize(text):\n",
        "  return nltk.word_tokenize(text.lower().translate(remove_punct_dict))\n",
        "\n",
        "print(LemNormalize(text))"
      ],
      "execution_count": 10,
      "outputs": [
        {
          "output_type": "stream",
          "text": [
            "['this', 'article', 'was', 'updated', 'on', 'may', '7', '2020', 'coronaviruses', 'typically', 'affect', 'the', 'respiratory', 'tracts', 'of', 'birds', 'and', 'mammals', 'including', 'humans', 'doctors', 'associate', 'them', 'with', 'the', 'common', 'cold', 'bronchitis', 'pneumonia', 'severe', 'acute', 'respiratory', 'syndrome', 'sars', 'and', 'coronavirus', 'disease', '2019', 'covid19', 'these', 'viruses', 'can', 'also', 'affect', 'the', 'gut', 'coronaviruses', 'usually', 'cause', 'the', 'common', 'cold', 'though', 'they', 'can', 'be', 'responsible', 'for', 'more', 'severe', 'illnesses', 'over', 'the', 'past', '70', 'years', 'scientists', 'have', 'found', 'that', 'these', 'viruses', 'can', 'infect', 'mice', 'rats', 'dogs', 'cats', 'turkeys', 'horses', 'pigs', 'and', 'cattle', 'sometimes', 'these', 'animals', 'transmit', 'the', 'viruses', 'to', 'humans', 'most', 'recently', 'authorities', 'identified', 'a', 'new', 'coronavirus', 'outbreak', 'in', 'china', 'that', 'has', 'now', 'reached', 'other', 'countries', 'the', 'virus', 'is', 'called', 'severe', 'acute', 'respiratory', 'syndrome', 'coronavirus', '2', 'sarscov2', 'and', 'it', 'can', 'cause', 'covid19', 'in', 'this', 'article', 'we', 'explain', 'the', 'different', 'types', 'of', 'human', 'coronavirus', 'their', 'symptoms', 'and', 'how', 'people', 'transmit', 'them', 'we', 'also', 'focus', 'on', 'three', 'particularly', 'dangerous', 'diseases', 'caused', 'by', 'coronaviruses', 'covid19', 'sars', 'and', 'middle', 'east', 'respiratory', 'syndrome', 'mers', 'stay', 'informed', 'with', 'live', 'updates', 'on', 'the', 'current', 'covid19', 'outbreak', 'and', 'visit', 'our', 'coronavirus', 'hub', 'for', 'more', 'advice', 'on', 'prevention', 'and', 'treatment', 'what', 'is', 'a', 'coronavirus', 'share', 'on', 'pinterest', 'covering', 'the', 'mouth', 'when', 'sneezing', 'can', 'help', 'stop', 'the', 'spread', 'of', 'coronaviruses', 'researchers', 'first', 'identified', 'a', 'coronavirus', 'in', '1937', 'isolating', 'one', 'that', 'was', 'responsible', 'for', 'a', 'type', 'of', 'bronchitis', 'in', 'birds', 'that', 'had', 'the', 'potential', 'to', 'devastate', 'poultry', 'stocks', 'scientists', 'found', 'evidence', 'of', 'human', 'coronaviruses', 'in', 'the', '1960s', 'in', 'the', 'noses', 'of', 'people', 'with', 'the', 'common', 'cold', 'human', 'coronaviruses', 'that', 'are', 'particularly', 'prevalent', 'include', '229e', 'nl63', 'oc43', 'and', 'hku1', 'the', 'name', '“', 'coronavirus', '”', 'comes', 'from', 'the', 'crownlike', 'projections', 'on', 'their', 'surfaces', '“', 'corona', '”', 'in', 'latin', 'means', '“', 'halo', '”', 'or', '“', 'crown', '”', 'among', 'humans', 'coronavirus', 'infections', 'most', 'often', 'occur', 'during', 'the', 'winter', 'months', 'and', 'early', 'spring', 'covid19', 'in', '2019', 'the', 'centers', 'for', 'disease', 'control', 'and', 'prevention', 'cdc', 'started', 'monitoring', 'the', 'outbreak', 'of', 'a', 'new', 'coronavirus', 'sarscov2', 'which', 'causes', 'covid19', 'authorities', 'first', 'identified', 'the', 'virus', 'in', 'wuhan', 'china', 'since', 'then', 'the', 'virus', 'has', 'spread', 'to', 'nearly', 'every', 'country', 'leading', 'the', 'world', 'health', 'organization', 'who', 'to', 'declare', 'a', 'pandemic', 'the', 'new', 'coronavirus', 'has', 'been', 'responsible', 'for', 'millions', 'of', 'infections', 'globally', 'causing', 'hundreds', 'of', 'thousands', 'of', 'deaths', 'the', 'united', 'states', 'has', 'seen', 'the', 'highest', 'number', 'of', 'these', 'deaths', 'the', 'first', 'people', 'with', 'covid19', 'had', 'links', 'to', 'an', 'animal', 'and', 'seafood', 'market', 'this', 'suggests', 'that', 'animals', 'initially', 'transmitted', 'the', 'virus', 'to', 'humans', 'then', 'people', 'with', 'no', 'connections', 'to', 'the', 'market', 'developed', 'the', 'disease', 'confirming', 'that', 'humans', 'can', 'pass', 'the', 'virus', 'to', 'each', 'other', 'read', 'about', 'how', 'pangolins', 'could', 'be', 'the', 'source', 'of', 'covid19', 'here', 'on', 'february', '17', '2020', 'the', 'directorgeneral', 'of', 'the', 'who', 'presented', 'the', 'following', 'updated', 'estimates', 'of', 'the', 'severity', 'of', 'covid19', 'cases', 'using', 'data', 'from', '44000', 'people', 'who', 'had', 'received', 'confirmed', 'diagnoses', 'stage', 'of', 'severity', 'rough', 'percentage', 'of', 'people', 'with', 'covid19', 'mild', 'disease', 'more', 'than', '80', 'severe', 'disease', 'causing', 'breathlessness', 'and', 'pneumonia', 'around', '14', 'critical', 'disease', 'causing', 'septic', 'shock', 'respiratory', 'failure', 'and', 'the', 'failure', 'of', 'more', 'than', 'one', 'organ', 'about', '5', 'fatal', 'disease', '2', 'the', 'who', 'report', 'that', 'the', 'two', 'groups', 'most', 'at', 'risk', 'of', 'experiencing', 'severe', 'illness', 'due', 'to', 'a', 'sarscov2', 'infection', 'are', 'older', 'adults', 'and', 'people', 'who', 'have', 'other', 'health', 'conditions', 'that', 'compromise', 'their', 'immune', 'systems', 'according', 'to', 'the', 'cdc', 'children', 'are', 'not', 'at', 'higher', 'risk', 'of', 'covid19', 'than', 'adults', 'although', 'there', 'are', 'currently', 'no', 'published', 'scientific', 'reports', 'about', 'the', 'susceptibility', 'of', 'pregnant', 'women', 'the', 'cdc', 'note', 'that', '“', 'pregnant', 'women', 'have', 'had', 'a', 'higher', 'risk', 'of', 'severe', 'illness', 'when', 'infected', 'with', 'viruses', 'from', 'the', 'same', 'family', 'as', 'those', 'that', 'cause', 'covid19', 'and', 'other', 'viral', 'respiratory', 'infections', '”', 'the', 'cdc', 'also', 'recommend', 'that', 'infants', 'born', 'to', 'women', 'with', 'suspected', 'or', 'confirmed', 'covid19', 'are', 'put', 'into', 'isolation', 'symptoms', 'of', 'covid19', 'according', 'to', 'the', 'cdc', 'people', 'may', 'start', 'to', 'experience', 'symptoms', '2–14', 'days', 'after', 'exposure', 'to', 'the', 'virus', 'the', 'primary', 'symptoms', 'are', 'a', 'cough', 'and', 'shortness', 'of', 'breath', 'or', 'difficulty', 'breathing', 'however', 'according', 'to', 'the', 'cdc', 'a', 'person', 'with', 'neither', 'of', 'those', 'symptoms', 'may', 'still', 'have', 'covid19', 'if', 'they', 'experience', 'at', 'least', 'two', 'of', 'the', 'following', 'a', 'fever', 'chills', 'repeated', 'shaking', 'with', 'chills', 'muscle', 'pain', 'a', 'headache', 'a', 'sore', 'throat', 'new', 'loss', 'of', 'taste', 'or', 'smell', 'no', 'vaccine', 'is', 'currently', 'available', 'for', 'covid19', 'however', 'scientists', 'have', 'now', 'replicated', 'the', 'virus', 'this', 'could', 'allow', 'for', 'early', 'detection', 'and', 'treatment', 'in', 'people', 'who', 'have', 'the', 'virus', 'but', 'are', 'not', 'experiencing', 'symptoms', 'according', 'to', 'the', 'cdc', 'the', 'following', 'groups', 'have', 'a', 'higher', 'risk', 'of', 'developing', 'serious', 'illness', 'from', 'covid19', 'people', 'aged', '65', 'years', 'or', 'older', 'people', 'living', 'in', 'nursing', 'homes', 'or', 'care', 'facilities', 'people', 'of', 'any', 'age', 'who', 'have', 'serious', 'underlying', 'medical', 'conditions', 'including', 'chronic', 'lung', 'disease', 'serious', 'heart', 'conditions', 'severe', 'obesity', 'a', 'compromised', 'immune', 'system', 'or', 'diabetes', 'the', 'cdc', 'note', 'that', 'although', 'there', 'have', 'been', 'reports', 'of', 'complications', 'in', 'young', 'children', 'these', 'are', 'rare', 'covid19', 'most', 'commonly', 'produces', 'mild', 'symptoms', 'in', 'children', 'general', 'symptoms', 'of', 'coronavirus', 'infections', 'cold', 'or', 'flulike', 'symptoms', 'usually', 'set', 'in', 'around', '2–4', 'days', 'after', 'the', 'infection', 'develops', 'typically', 'the', 'symptoms', 'are', 'mild', 'though', 'they', 'vary', 'from', 'person', 'to', 'person', 'in', 'some', 'people', 'coronavirus', 'infections', 'are', 'fatal', 'symptoms', 'may', 'include', 'a', 'runny', 'nose', 'a', 'headache', 'a', 'cough', 'a', 'fever', 'a', 'sore', 'throat', 'generally', 'feeling', 'unwell', 'while', 'scientists', 'can', 'easily', 'cultivate', 'rhinoviruses', '—', 'which', 'also', 'cause', 'the', 'common', 'cold', '—', 'in', 'the', 'laboratory', 'this', 'is', 'not', 'the', 'case', 'with', 'coronaviruses', 'this', 'makes', 'it', 'difficult', 'to', 'gauge', 'the', 'impact', 'of', 'these', 'pathogens', 'there', 'is', 'currently', 'no', 'cure', 'for', 'the', 'coldlike', 'illnesses', 'caused', 'by', 'coronaviruses', 'treatments', 'include', 'selfcare', 'and', 'overthecounter', 'medications', 'taking', 'the', 'following', 'steps', 'may', 'help', 'resting', 'and', 'avoiding', 'overexertion', 'drinking', 'plenty', 'of', 'water', 'avoiding', 'smoking', 'and', 'smoky', 'areas', 'taking', 'acetaminophen', 'tylenol', 'to', 'reduce', 'pain', 'and', 'a', 'fever', 'using', 'a', 'clean', 'humidifier', 'or', 'cool', 'mist', 'vaporizer', 'a', 'doctor', 'can', 'identify', 'the', 'virus', 'responsible', 'in', 'a', 'sample', 'of', 'fluid', 'from', 'a', 'person', '’', 's', 'body', 'such', 'as', 'a', 'sample', 'of', 'blood', 'or', 'mucus', 'from', 'the', 'nose', 'types', 'coronaviruses', 'belong', 'to', 'the', 'subfamily', 'coronavirinae', 'in', 'the', 'family', 'coronaviridae', 'different', 'types', 'of', 'coronavirus', 'vary', 'in', 'terms', 'of', 'the', 'severity', 'of', 'disease', 'that', 'they', 'cause', 'and', 'how', 'far', 'they', 'spread', 'doctors', 'currently', 'recognize', 'seven', 'types', 'of', 'coronavirus', 'that', 'can', 'infect', 'humans', 'common', 'types', 'include', '229e', 'alpha', 'coronavirus', 'nl63', 'alpha', 'coronavirus', 'oc43', 'beta', 'coronavirus', 'hku1', 'beta', 'coronavirus', 'rarer', 'strains', 'that', 'cause', 'more', 'severe', 'illnesses', 'include', 'merscov', 'which', 'causes', 'the', 'disease', 'mers', 'and', 'sarscov', 'the', 'virus', 'responsible', 'for', 'sars', 'in', '2019', 'a', 'new', 'strain', 'called', 'sarscov2', 'started', 'circulating', 'causing', 'the', 'disease', 'covid19', 'transmission', 'the', 'cdc', 'recommend', 'that', 'all', 'people', 'wear', 'cloth', 'face', 'masks', 'in', 'public', 'places', 'where', 'it', 'is', 'difficult', 'to', 'maintain', 'a', '6foot', '2meter', 'distance', 'from', 'others', 'this', 'will', 'help', 'slow', 'the', 'spread', 'of', 'the', 'virus', 'from', 'asymptomatic', 'people', 'and', 'people', 'who', 'do', 'not', 'know', 'that', 'they', 'have', 'contracted', 'it', 'people', 'should', 'wear', 'cloth', 'face', 'masks', 'while', 'continuing', 'to', 'practice', 'physical', 'distancing', 'instructions', 'for', 'making', 'masks', 'at', 'home', 'are', 'available', 'here', 'note', 'it', 'is', 'critical', 'that', 'surgical', 'masks', 'and', 'n95', 'respirators', 'are', 'reserved', 'for', 'healthcare', 'workers', 'researchers', 'believe', 'that', 'the', 'viruses', 'transmit', 'via', 'fluids', 'in', 'the', 'respiratory', 'system', 'such', 'as', 'mucus', 'for', 'example', 'a', 'coronavirus', 'can', 'spread', 'when', 'a', 'person', 'coughs', 'or', 'sneezes', 'without', 'covering', 'their', 'mouth', 'dispersing', 'droplets', 'into', 'the', 'air', 'touches', 'someone', 'who', 'has', 'the', 'infection', 'touches', 'a', 'surface', 'that', 'has', 'the', 'virus', 'then', 'touches', 'their', 'own', 'nose', 'eyes', 'or', 'mouth', 'some', 'animal', 'coronaviruses', 'may', 'spread', 'to', 'humans', 'through', 'contact', 'with', 'feces', 'though', 'it', 'is', 'unclear', 'whether', 'human', 'coronaviruses', 'can', 'spread', 'in', 'the', 'same', 'way', 'coronaviruses', 'will', 'infect', 'most', 'people', 'at', 'some', 'point', 'to', 'prevent', 'transmission', 'people', 'with', 'symptoms', 'should', 'stay', 'at', 'home', 'rest', 'and', 'avoid', 'coming', 'into', 'close', 'contact', 'with', 'other', 'people', 'covering', 'the', 'mouth', 'and', 'nose', 'with', 'a', 'tissue', 'or', 'handkerchief', 'while', 'coughing', 'or', 'sneezing', 'can', 'also', 'help', 'prevent', 'transmission', 'it', 'is', 'important', 'to', 'dispose', 'of', 'used', 'tissues', 'right', 'away', 'and', 'maintain', 'proper', 'hygiene', 'around', 'the', 'home', 'sars', 'sars', 'is', 'a', 'contagious', 'disease', 'that', 'develops', 'from', 'infection', 'with', 'the', 'sarscov', 'coronavirus', 'it', 'can', 'lead', 'to', 'a', 'life', 'threatening', 'form', 'of', 'pneumonia', 'in', 'november', '2002', 'the', 'virus', 'started', 'circulating', 'in', 'the', 'guangdong', 'province', 'of', 'southern', 'china', 'eventually', 'reaching', 'hong', 'kong', 'from', 'there', 'it', 'rapidly', 'spread', 'causing', 'infections', 'in', 'more', 'than', '24', 'countries', 'sarscov', 'can', 'infect', 'both', 'the', 'upper', 'and', 'lower', 'respiratory', 'tract', 'the', 'symptoms', 'of', 'sars', 'develop', 'over', '1', 'week', 'and', 'start', 'with', 'a', 'fever', 'early', 'on', 'people', 'develop', 'flulike', 'symptoms', 'such', 'as', 'a', 'dry', 'cough', 'chills', 'diarrhea', 'breathlessness', 'aches', 'pneumonia', 'a', 'severe', 'lung', 'infection', 'usually', 'develops', 'at', 'its', 'most', 'advanced', 'stage', 'sars', 'causes', 'failure', 'of', 'the', 'lungs', 'heart', 'or', 'liver', 'according', 'to', 'the', 'cdc', 'authorities', 'reported', 'that', '8098', 'people', 'contracted', 'sars', 'during', 'the', 'outbreak', 'among', 'these', 'people', '774', 'died', 'of', 'the', 'disease', 'this', 'indicates', 'a', 'mortality', 'rate', 'of', '96', 'complications', 'are', 'more', 'common', 'among', 'older', 'adults', 'according', 'to', 'one', 'source', 'more', 'than', 'half', 'of', 'those', 'who', 'died', 'from', 'the', 'infection', 'were', 'over', 'the', 'age', 'of', '65', 'authorities', 'eventually', 'controlled', 'sars', 'in', 'july', '2003']\n"
          ],
          "name": "stdout"
        }
      ]
    },
    {
      "cell_type": "code",
      "metadata": {
        "id": "HbFX8SPurhxu",
        "colab_type": "code",
        "colab": {}
      },
      "source": [
        "GREETING_INPUTS=['hey','hi','hello','heya','howdy','whatsup','wassup','hola']\n",
        "GREETING_OUTPUTS=['hey!','hello!','heya!','howdy!','hey there!','holaa!']\n"
      ],
      "execution_count": 0,
      "outputs": []
    },
    {
      "cell_type": "code",
      "metadata": {
        "id": "luXX68PIt0iR",
        "colab_type": "code",
        "colab": {}
      },
      "source": [
        "def greeting(sentence):\n",
        "  for word in sentence.split():\n",
        "    if word.lower() in GREETING_INPUTS:\n",
        "      return random.choice(GREETING_OUTPUTS)\n"
      ],
      "execution_count": 0,
      "outputs": []
    },
    {
      "cell_type": "code",
      "metadata": {
        "id": "NRc9ZeIQZeno",
        "colab_type": "code",
        "colab": {}
      },
      "source": [
        "def response(user_response):\n",
        "  user_response.lower()\n",
        "  #print(user_response)\n",
        "\n",
        "  robo_response=''\n",
        "  sent_tokens.append(user_response)\n",
        "  #print(sent_tokens)\n",
        "\n",
        "  tfidfvec=TfidfVectorizer(tokenizer=LemNormalize,stop_words='english')\n",
        "  tfidf=tfidfvec.fit_transform(sent_tokens)\n",
        "  #print(tfidf)\n",
        "\n",
        "  #Get similarity scores (user's response with all other tokens)\n",
        "  vals=cosine_similarity(tfidf[-1],tfidf)\n",
        "  #print(vals)\n",
        "\n",
        "  idx=vals.argsort()[0][-2]\n",
        "  #we give -2 as argument since -1 will give the sentence with max similarity, and that would be the sentence itself(since it is appended at the end)\n",
        "  #hence we use -2 which give the second most similar sentence\n",
        "\n",
        "  #reduce the dimensionality of vals\n",
        "  flat=vals.flatten()\n",
        "\n",
        "  #sort the list in ascending order\n",
        "  flat.sort()\n",
        "\n",
        "  #Get the most similar score to user response\n",
        "  score=flat[-2]\n",
        "  #print(score)\n",
        "\n",
        "  #if score==0 => no text similar to user response\n",
        "  if(score==0):\n",
        "    robo_response=robo_response+\"I am sorry, I don't quite understand\"\n",
        "\n",
        "  else:\n",
        "    robo_response=robo_response+sent_tokens[idx]\n",
        "\n",
        "  #print(robo_response)\n",
        "\n",
        "  sent_tokens.remove(user_response)\n",
        "\n",
        "  return robo_response\n",
        "\n"
      ],
      "execution_count": 0,
      "outputs": []
    },
    {
      "cell_type": "code",
      "metadata": {
        "id": "Sg0mJxjOb1fM",
        "colab_type": "code",
        "outputId": "680075ab-80eb-4c59-e0a3-1aa53c4e3c54",
        "colab": {
          "base_uri": "https://localhost:8080/",
          "height": 836
        }
      },
      "source": [
        "flag=True\n",
        "\n",
        "print(\"Bot: Hey! I'm M.A.R.T.I.N. I'm here to clear your doubts on corona virus. If you wish to exit, type 'bye'.\")\n",
        "\n",
        "while(flag==True):\n",
        "  user_response=input()\n",
        "  user_response=user_response.lower()\n",
        "\n",
        "  if(user_response!='bye'):\n",
        "    if(user_response=='thanks' or user_response=='thank you'):\n",
        "      print(\"Bot: You're welcome!\")\n",
        "\n",
        "    else:\n",
        "      if(greeting(user_response)!=None):\n",
        "        print(\"Bot: \"+greeting(user_response ))\n",
        "      else:\n",
        "        print(\"Bot: \"+response(user_response))\n",
        "        \n",
        "  else:\n",
        "    flag=False\n",
        "    print(\"Bot: Talk to ya later!\")\n",
        "\n"
      ],
      "execution_count": 14,
      "outputs": [
        {
          "output_type": "stream",
          "text": [
            "Bot: Hey! I'm M.A.R.T.I.N. I'm here to clear your doubts on corona virus. If you wish to exit, type 'bye'.\n",
            "hi\n",
            "Bot: holaa!\n",
            "hey\n",
            "Bot: hey!\n",
            "how to prevent corona virus\n",
            "Bot: Covering the mouth and nose with a tissue or handkerchief while coughing or sneezing can also help prevent transmission.\n",
            "how does corona virus spread\n",
            "Bot: This will help slow the spread of the virus from asymptomatic people and people who do not know that they have contracted it.\n",
            "how to cure corona virus\n",
            "Bot: There is currently no cure for the cold-like illnesses caused by coronaviruses.\n",
            "how are you?\n",
            "Bot: I am sorry, I don't quite understand\n",
            "thank you\n",
            "Bot: You're welcome!\n",
            "what is corona virus\n",
            "Bot: However, scientists have now replicated the virus.\n",
            "what is covid-19\n",
            "Bot: COVID-19 In 2019, the Centers for Disease Control and Prevention (CDC) started monitoring the outbreak of a new coronavirus, SARS-CoV-2, which causes COVID-19.\n",
            "what are the symptoms of corona virus\n",
            "Bot: Symptoms of COVID-19 According to the CDC, people may start to experience symptoms 2–14 days after exposure to the virus.\n",
            "what are the symptoms of covid-19\n",
            "Bot: Symptoms of COVID-19 According to the CDC, people may start to experience symptoms 2–14 days after exposure to the virus.\n",
            "what are the symptoms\n",
            "Bot: Symptoms of COVID-19 According to the CDC, people may start to experience symptoms 2–14 days after exposure to the virus.\n",
            "what do patients experience\n",
            "Bot: Symptoms of COVID-19 According to the CDC, people may start to experience symptoms 2–14 days after exposure to the virus.\n",
            "what are the primary symptoms\n",
            "Bot: The primary symptoms are a cough and shortness of breath or difficulty breathing.\n",
            "what vaccines are available \n",
            "Bot: Instructions for making masks at home are available here.\n",
            "what vaccines can be used\n",
            "Bot: It is important to dispose of used tissues right away and maintain proper hygiene around the home.\n",
            "are there any vaccines\n",
            "Bot: I am sorry, I don't quite understand\n",
            "what vaccines are used foe covid-19\n",
            "Bot: It is important to dispose of used tissues right away and maintain proper hygiene around the home.\n",
            "are there any vaccines for corona virus\n",
            "Bot: However, scientists have now replicated the virus.\n",
            "are there any vaccines for covid-19\n",
            "Bot: COVID-19 In 2019, the Centers for Disease Control and Prevention (CDC) started monitoring the outbreak of a new coronavirus, SARS-CoV-2, which causes COVID-19.\n",
            "how many people have died due to corona virus\n",
            "Bot: Among these people, 774 died of the disease.\n",
            "symptoms include\n",
            "Bot: Treatments include self-care and over-the-counter medications.\n",
            "bye\n",
            "Bot: Talk to ya later!\n"
          ],
          "name": "stdout"
        }
      ]
    }
  ]
}