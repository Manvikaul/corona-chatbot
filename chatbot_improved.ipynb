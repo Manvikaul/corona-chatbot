{
  "nbformat": 4,
  "nbformat_minor": 0,
  "metadata": {
    "colab": {
      "name": "chatbot_improved.ipynb",
      "provenance": [],
      "authorship_tag": "ABX9TyMcZAS4DNRPEU016SntATSj",
      "include_colab_link": true
    },
    "kernelspec": {
      "name": "python3",
      "display_name": "Python 3"
    },
    "accelerator": "GPU"
  },
  "cells": [
    {
      "cell_type": "markdown",
      "metadata": {
        "id": "view-in-github",
        "colab_type": "text"
      },
      "source": [
        "<a href=\"https://colab.research.google.com/github/Manvikaul/corona-chatbot/blob/master/chatbot_improved.ipynb\" target=\"_parent\"><img src=\"https://colab.research.google.com/assets/colab-badge.svg\" alt=\"Open In Colab\"/></a>"
      ]
    },
    {
      "cell_type": "code",
      "metadata": {
        "id": "g9aTSOlv-jUg",
        "colab_type": "code",
        "colab": {
          "base_uri": "https://localhost:8080/",
          "height": 51
        },
        "outputId": "ff7c4848-0864-4683-eb58-96c85735ca84"
      },
      "source": [
        "pip install nltk"
      ],
      "execution_count": 2,
      "outputs": [
        {
          "output_type": "stream",
          "text": [
            "Requirement already satisfied: nltk in /usr/local/lib/python3.6/dist-packages (3.2.5)\n",
            "Requirement already satisfied: six in /usr/local/lib/python3.6/dist-packages (from nltk) (1.12.0)\n"
          ],
          "name": "stdout"
        }
      ]
    },
    {
      "cell_type": "code",
      "metadata": {
        "id": "Z5MmH0sd__S0",
        "colab_type": "code",
        "colab": {
          "base_uri": "https://localhost:8080/",
          "height": 870
        },
        "outputId": "2723397d-741c-40a8-9ab3-1d26b11bbc17"
      },
      "source": [
        "pip install newspaper3k"
      ],
      "execution_count": 3,
      "outputs": [
        {
          "output_type": "stream",
          "text": [
            "Collecting newspaper3k\n",
            "\u001b[?25l  Downloading https://files.pythonhosted.org/packages/d7/b9/51afecb35bb61b188a4b44868001de348a0e8134b4dfa00ffc191567c4b9/newspaper3k-0.2.8-py3-none-any.whl (211kB)\n",
            "\r\u001b[K     |█▌                              | 10kB 14.7MB/s eta 0:00:01\r\u001b[K     |███                             | 20kB 4.5MB/s eta 0:00:01\r\u001b[K     |████▋                           | 30kB 6.4MB/s eta 0:00:01\r\u001b[K     |██████▏                         | 40kB 8.1MB/s eta 0:00:01\r\u001b[K     |███████▊                        | 51kB 4.8MB/s eta 0:00:01\r\u001b[K     |█████████▎                      | 61kB 5.3MB/s eta 0:00:01\r\u001b[K     |██████████▉                     | 71kB 5.7MB/s eta 0:00:01\r\u001b[K     |████████████▍                   | 81kB 6.0MB/s eta 0:00:01\r\u001b[K     |██████████████                  | 92kB 6.1MB/s eta 0:00:01\r\u001b[K     |███████████████▌                | 102kB 6.6MB/s eta 0:00:01\r\u001b[K     |█████████████████               | 112kB 6.6MB/s eta 0:00:01\r\u001b[K     |██████████████████▋             | 122kB 6.6MB/s eta 0:00:01\r\u001b[K     |████████████████████▏           | 133kB 6.6MB/s eta 0:00:01\r\u001b[K     |█████████████████████▊          | 143kB 6.6MB/s eta 0:00:01\r\u001b[K     |███████████████████████▎        | 153kB 6.6MB/s eta 0:00:01\r\u001b[K     |████████████████████████▉       | 163kB 6.6MB/s eta 0:00:01\r\u001b[K     |██████████████████████████▍     | 174kB 6.6MB/s eta 0:00:01\r\u001b[K     |████████████████████████████    | 184kB 6.6MB/s eta 0:00:01\r\u001b[K     |█████████████████████████████▌  | 194kB 6.6MB/s eta 0:00:01\r\u001b[K     |███████████████████████████████ | 204kB 6.6MB/s eta 0:00:01\r\u001b[K     |████████████████████████████████| 215kB 6.6MB/s \n",
            "\u001b[?25hRequirement already satisfied: python-dateutil>=2.5.3 in /usr/local/lib/python3.6/dist-packages (from newspaper3k) (2.8.1)\n",
            "Requirement already satisfied: beautifulsoup4>=4.4.1 in /usr/local/lib/python3.6/dist-packages (from newspaper3k) (4.6.3)\n",
            "Requirement already satisfied: PyYAML>=3.11 in /usr/local/lib/python3.6/dist-packages (from newspaper3k) (3.13)\n",
            "Requirement already satisfied: Pillow>=3.3.0 in /usr/local/lib/python3.6/dist-packages (from newspaper3k) (7.0.0)\n",
            "Requirement already satisfied: lxml>=3.6.0 in /usr/local/lib/python3.6/dist-packages (from newspaper3k) (4.2.6)\n",
            "Collecting cssselect>=0.9.2\n",
            "  Downloading https://files.pythonhosted.org/packages/3b/d4/3b5c17f00cce85b9a1e6f91096e1cc8e8ede2e1be8e96b87ce1ed09e92c5/cssselect-1.1.0-py2.py3-none-any.whl\n",
            "Requirement already satisfied: nltk>=3.2.1 in /usr/local/lib/python3.6/dist-packages (from newspaper3k) (3.2.5)\n",
            "Collecting feedparser>=5.2.1\n",
            "\u001b[?25l  Downloading https://files.pythonhosted.org/packages/91/d8/7d37fec71ff7c9dbcdd80d2b48bcdd86d6af502156fc93846fb0102cb2c4/feedparser-5.2.1.tar.bz2 (192kB)\n",
            "\u001b[K     |████████████████████████████████| 194kB 18.3MB/s \n",
            "\u001b[?25hCollecting tldextract>=2.0.1\n",
            "\u001b[?25l  Downloading https://files.pythonhosted.org/packages/fd/0e/9ab599d6e78f0340bb1d1e28ddeacb38c8bb7f91a1b0eae9a24e9603782f/tldextract-2.2.2-py2.py3-none-any.whl (48kB)\n",
            "\u001b[K     |████████████████████████████████| 51kB 7.3MB/s \n",
            "\u001b[?25hCollecting feedfinder2>=0.0.4\n",
            "  Downloading https://files.pythonhosted.org/packages/35/82/1251fefec3bb4b03fd966c7e7f7a41c9fc2bb00d823a34c13f847fd61406/feedfinder2-0.0.4.tar.gz\n",
            "Collecting jieba3k>=0.35.1\n",
            "\u001b[?25l  Downloading https://files.pythonhosted.org/packages/a9/cb/2c8332bcdc14d33b0bedd18ae0a4981a069c3513e445120da3c3f23a8aaa/jieba3k-0.35.1.zip (7.4MB)\n",
            "\u001b[K     |████████████████████████████████| 7.4MB 18.8MB/s \n",
            "\u001b[?25hCollecting tinysegmenter==0.3\n",
            "  Downloading https://files.pythonhosted.org/packages/17/82/86982e4b6d16e4febc79c2a1d68ee3b707e8a020c5d2bc4af8052d0f136a/tinysegmenter-0.3.tar.gz\n",
            "Requirement already satisfied: requests>=2.10.0 in /usr/local/lib/python3.6/dist-packages (from newspaper3k) (2.23.0)\n",
            "Requirement already satisfied: six>=1.5 in /usr/local/lib/python3.6/dist-packages (from python-dateutil>=2.5.3->newspaper3k) (1.12.0)\n",
            "Collecting requests-file>=1.4\n",
            "  Downloading https://files.pythonhosted.org/packages/77/86/cdb5e8eaed90796aa83a6d9f75cfbd37af553c47a291cd47bc410ef9bdb2/requests_file-1.5.1-py2.py3-none-any.whl\n",
            "Requirement already satisfied: setuptools in /usr/local/lib/python3.6/dist-packages (from tldextract>=2.0.1->newspaper3k) (46.1.3)\n",
            "Requirement already satisfied: idna in /usr/local/lib/python3.6/dist-packages (from tldextract>=2.0.1->newspaper3k) (2.9)\n",
            "Requirement already satisfied: certifi>=2017.4.17 in /usr/local/lib/python3.6/dist-packages (from requests>=2.10.0->newspaper3k) (2020.4.5.1)\n",
            "Requirement already satisfied: urllib3!=1.25.0,!=1.25.1,<1.26,>=1.21.1 in /usr/local/lib/python3.6/dist-packages (from requests>=2.10.0->newspaper3k) (1.24.3)\n",
            "Requirement already satisfied: chardet<4,>=3.0.2 in /usr/local/lib/python3.6/dist-packages (from requests>=2.10.0->newspaper3k) (3.0.4)\n",
            "Building wheels for collected packages: feedparser, feedfinder2, jieba3k, tinysegmenter\n",
            "  Building wheel for feedparser (setup.py) ... \u001b[?25l\u001b[?25hdone\n",
            "  Created wheel for feedparser: filename=feedparser-5.2.1-cp36-none-any.whl size=44940 sha256=5cf017c6884f2532081a7f46a5d4acfbac60f0533d0ea7cfa42bab37089ddea1\n",
            "  Stored in directory: /root/.cache/pip/wheels/8c/69/b7/f52763c41c5471df57703a0ef718a32a5e81ee35dcf6d4f97f\n",
            "  Building wheel for feedfinder2 (setup.py) ... \u001b[?25l\u001b[?25hdone\n",
            "  Created wheel for feedfinder2: filename=feedfinder2-0.0.4-cp36-none-any.whl size=3357 sha256=a6760229b0c3cffdc13c244bdc12e024e94eb89de195f6b4b2ffe887132d8d3c\n",
            "  Stored in directory: /root/.cache/pip/wheels/de/03/ca/778e3a7a627e3d98836cc890e7cb40c7575424cfd3340f40ed\n",
            "  Building wheel for jieba3k (setup.py) ... \u001b[?25l\u001b[?25hdone\n",
            "  Created wheel for jieba3k: filename=jieba3k-0.35.1-cp36-none-any.whl size=7398406 sha256=b69a47a5b7b5e328acf2180f9be248762a63c398cacbe6de6518850a30982574\n",
            "  Stored in directory: /root/.cache/pip/wheels/83/15/9c/a3f1f67e7f7181170ad37d32e503c35da20627c013f438ed34\n",
            "  Building wheel for tinysegmenter (setup.py) ... \u001b[?25l\u001b[?25hdone\n",
            "  Created wheel for tinysegmenter: filename=tinysegmenter-0.3-cp36-none-any.whl size=13539 sha256=915acfbacb1feb88ec3350ce4def7d7a5bc6be5ada7948f894319f32ed308eb4\n",
            "  Stored in directory: /root/.cache/pip/wheels/81/2b/43/a02ede72324dd40cdd7ca53aad718c7710628e91b8b0dc0f02\n",
            "Successfully built feedparser feedfinder2 jieba3k tinysegmenter\n",
            "Installing collected packages: cssselect, feedparser, requests-file, tldextract, feedfinder2, jieba3k, tinysegmenter, newspaper3k\n",
            "Successfully installed cssselect-1.1.0 feedfinder2-0.0.4 feedparser-5.2.1 jieba3k-0.35.1 newspaper3k-0.2.8 requests-file-1.5.1 tinysegmenter-0.3 tldextract-2.2.2\n"
          ],
          "name": "stdout"
        }
      ]
    },
    {
      "cell_type": "code",
      "metadata": {
        "id": "7wBvZdq2AHQq",
        "colab_type": "code",
        "colab": {}
      },
      "source": [
        "#IMPORTS\n",
        "from newspaper import Article\n",
        "import random\n",
        "import string\n",
        "from sklearn.feature_extraction.text import TfidfVectorizer\n",
        "from sklearn.metrics.pairwise import cosine_similarity\n",
        "import nltk\n",
        "import numpy as np\n",
        "import warnings"
      ],
      "execution_count": 0,
      "outputs": []
    },
    {
      "cell_type": "code",
      "metadata": {
        "id": "AaAkVEI4KUHA",
        "colab_type": "code",
        "colab": {}
      },
      "source": [
        "#Ignoring warnings\n",
        "warnings.filterwarnings('ignore')"
      ],
      "execution_count": 0,
      "outputs": []
    },
    {
      "cell_type": "code",
      "metadata": {
        "id": "umANhsMjKuaK",
        "colab_type": "code",
        "colab": {
          "base_uri": "https://localhost:8080/",
          "height": 102
        },
        "outputId": "1292ceee-53b6-49e0-8de9-83d2517ec7de"
      },
      "source": [
        "nltk.download('punkt')\n",
        "nltk.download('wordnet')"
      ],
      "execution_count": 6,
      "outputs": [
        {
          "output_type": "stream",
          "text": [
            "[nltk_data] Downloading package punkt to /root/nltk_data...\n",
            "[nltk_data]   Unzipping tokenizers/punkt.zip.\n",
            "[nltk_data] Downloading package wordnet to /root/nltk_data...\n",
            "[nltk_data]   Unzipping corpora/wordnet.zip.\n"
          ],
          "name": "stdout"
        },
        {
          "output_type": "execute_result",
          "data": {
            "text/plain": [
              "True"
            ]
          },
          "metadata": {
            "tags": []
          },
          "execution_count": 6
        }
      ]
    },
    {
      "cell_type": "code",
      "metadata": {
        "id": "Wv1WNTJ-XC1z",
        "colab_type": "code",
        "colab": {
          "base_uri": "https://localhost:8080/",
          "height": 428
        },
        "outputId": "0c5d9aa4-bfcb-4596-d609-569d6b559ed1"
      },
      "source": [
        "article=Article('https://www.webmd.com/lung/coronavirus')\n",
        "article.download()\n",
        "article.parse()\n",
        "article.nlp()\n",
        "\n",
        "corpus=article.text\n",
        "\n",
        "print(corpus)"
      ],
      "execution_count": 7,
      "outputs": [
        {
          "output_type": "stream",
          "text": [
            "Editor's note: For the latest updates on the 2020 coronavirus outbreak, see our news coverage .\n",
            "\n",
            "What Is COVID-19?\n",
            "\n",
            "A coronavirus is a kind of common virus that causes an infection in your nose, sinuses, or upper throat. Most coronaviruses aren't dangerous.\n",
            "\n",
            "COVID-19 is a disease that can cause what doctors call a respiratory tract infection. It can affect your upper respiratory tract (sinuses, nose, and throat) or lower respiratory tract (windpipe and lungs). It's caused by a coronavirus named SARS-CoV-2.\n",
            "\n",
            "It spreads the same way other coronaviruses do, mainly through person-to-person contact. Infections range from mild to serious.\n",
            "\n",
            "SARS-CoV-2 is one of seven types of coronavirus, including the ones that cause severe diseases like Middle East respiratory syndrome (MERS) and sudden acute respiratory syndrome (SARS). The other coronaviruses cause most of the colds that affect us during the year but aren’t a serious threat for otherwise healthy people.\n",
            "\n",
            "In early 2020, after a December 2019 outbreak in China, the World Health Organization identified SARS-CoV-2 as a new type of coronavirus. The outbreak quickly spread around the world.\n",
            "\n",
            "Is there more than one strain of SARS-CoV-2?\n",
            "\n",
            "It’s normal for a virus to change, or mutate, as it infects people. A Chinese study of 103 COVID-19 cases suggests the virus that causes it has done just that. They found two strains, which they named L and S. The S type is older, but the L type was more common in early stages of the outbreak. They think one may cause more cases of the disease than the other, but they’re still working on what it all means.\n",
            "\n",
            "How long will the coronavirus last?\n",
            "\n",
            "It’s too soon to tell how long the pandemic will continue. It depends on many things, including researchers’ work to learn more about the virus, their search for a treatment and a vaccine, and the public’s efforts to slow the spread.\n",
            "\n",
            "Dozens of vaccine candidates are in various stages of development and testing. This process usually takes years. Researchers are speeding it up as much as they can, but it still might take 12 to 18 months to find a vaccine that works and is safe.\n"
          ],
          "name": "stdout"
        }
      ]
    },
    {
      "cell_type": "code",
      "metadata": {
        "id": "6Zz_KIJ-YWPp",
        "colab_type": "code",
        "colab": {
          "base_uri": "https://localhost:8080/",
          "height": 54
        },
        "outputId": "862f78d7-fa41-4630-f421-4176027729ba"
      },
      "source": [
        "text=corpus\n",
        "sent_tokens=nltk.sent_tokenize(text)\n",
        "\n",
        "print(sent_tokens)"
      ],
      "execution_count": 8,
      "outputs": [
        {
          "output_type": "stream",
          "text": [
            "[\"Editor's note: For the latest updates on the 2020 coronavirus outbreak, see our news coverage .\", 'What Is COVID-19?', 'A coronavirus is a kind of common virus that causes an infection in your nose, sinuses, or upper throat.', \"Most coronaviruses aren't dangerous.\", 'COVID-19 is a disease that can cause what doctors call a respiratory tract infection.', 'It can affect your upper respiratory tract (sinuses, nose, and throat) or lower respiratory tract (windpipe and lungs).', \"It's caused by a coronavirus named SARS-CoV-2.\", 'It spreads the same way other coronaviruses do, mainly through person-to-person contact.', 'Infections range from mild to serious.', 'SARS-CoV-2 is one of seven types of coronavirus, including the ones that cause severe diseases like Middle East respiratory syndrome (MERS) and sudden acute respiratory syndrome (SARS).', 'The other coronaviruses cause most of the colds that affect us during the year but aren’t a serious threat for otherwise healthy people.', 'In early 2020, after a December 2019 outbreak in China, the World Health Organization identified SARS-CoV-2 as a new type of coronavirus.', 'The outbreak quickly spread around the world.', 'Is there more than one strain of SARS-CoV-2?', 'It’s normal for a virus to change, or mutate, as it infects people.', 'A Chinese study of 103 COVID-19 cases suggests the virus that causes it has done just that.', 'They found two strains, which they named L and S. The S type is older, but the L type was more common in early stages of the outbreak.', 'They think one may cause more cases of the disease than the other, but they’re still working on what it all means.', 'How long will the coronavirus last?', 'It’s too soon to tell how long the pandemic will continue.', 'It depends on many things, including researchers’ work to learn more about the virus, their search for a treatment and a vaccine, and the public’s efforts to slow the spread.', 'Dozens of vaccine candidates are in various stages of development and testing.', 'This process usually takes years.', 'Researchers are speeding it up as much as they can, but it still might take 12 to 18 months to find a vaccine that works and is safe.']\n"
          ],
          "name": "stdout"
        }
      ]
    },
    {
      "cell_type": "code",
      "metadata": {
        "id": "2jtbnkdBbZpb",
        "colab_type": "code",
        "colab": {
          "base_uri": "https://localhost:8080/",
          "height": 34
        },
        "outputId": "de01ec01-088e-4f10-9b0c-2fb8e3d46e3b"
      },
      "source": [
        "remove_punct_dict=dict((ord(punct),None) for punct in string.punctuation)\n",
        "\n",
        "print(string.punctuation)"
      ],
      "execution_count": 9,
      "outputs": [
        {
          "output_type": "stream",
          "text": [
            "!\"#$%&'()*+,-./:;<=>?@[\\]^_`{|}~\n"
          ],
          "name": "stdout"
        }
      ]
    },
    {
      "cell_type": "code",
      "metadata": {
        "id": "5JDptqPWczFo",
        "colab_type": "code",
        "colab": {
          "base_uri": "https://localhost:8080/",
          "height": 54
        },
        "outputId": "a3f15c3f-b7cb-41da-ac45-8048e7c0a890"
      },
      "source": [
        "print(remove_punct_dict)"
      ],
      "execution_count": 10,
      "outputs": [
        {
          "output_type": "stream",
          "text": [
            "{33: None, 34: None, 35: None, 36: None, 37: None, 38: None, 39: None, 40: None, 41: None, 42: None, 43: None, 44: None, 45: None, 46: None, 47: None, 58: None, 59: None, 60: None, 61: None, 62: None, 63: None, 64: None, 91: None, 92: None, 93: None, 94: None, 95: None, 96: None, 123: None, 124: None, 125: None, 126: None}\n"
          ],
          "name": "stdout"
        }
      ]
    },
    {
      "cell_type": "code",
      "metadata": {
        "id": "oFPX_gNPcXLa",
        "colab_type": "code",
        "colab": {
          "base_uri": "https://localhost:8080/",
          "height": 54
        },
        "outputId": "4a11fb59-8a71-4b5c-e9df-cfe04302613f"
      },
      "source": [
        "def LemNormalize(text):\n",
        "  return nltk.word_tokenize(text.lower().translate(remove_punct_dict))\n",
        "\n",
        "print(LemNormalize(text))"
      ],
      "execution_count": 13,
      "outputs": [
        {
          "output_type": "stream",
          "text": [
            "['editors', 'note', 'for', 'the', 'latest', 'updates', 'on', 'the', '2020', 'coronavirus', 'outbreak', 'see', 'our', 'news', 'coverage', 'what', 'is', 'covid19', 'a', 'coronavirus', 'is', 'a', 'kind', 'of', 'common', 'virus', 'that', 'causes', 'an', 'infection', 'in', 'your', 'nose', 'sinuses', 'or', 'upper', 'throat', 'most', 'coronaviruses', 'arent', 'dangerous', 'covid19', 'is', 'a', 'disease', 'that', 'can', 'cause', 'what', 'doctors', 'call', 'a', 'respiratory', 'tract', 'infection', 'it', 'can', 'affect', 'your', 'upper', 'respiratory', 'tract', 'sinuses', 'nose', 'and', 'throat', 'or', 'lower', 'respiratory', 'tract', 'windpipe', 'and', 'lungs', 'its', 'caused', 'by', 'a', 'coronavirus', 'named', 'sarscov2', 'it', 'spreads', 'the', 'same', 'way', 'other', 'coronaviruses', 'do', 'mainly', 'through', 'persontoperson', 'contact', 'infections', 'range', 'from', 'mild', 'to', 'serious', 'sarscov2', 'is', 'one', 'of', 'seven', 'types', 'of', 'coronavirus', 'including', 'the', 'ones', 'that', 'cause', 'severe', 'diseases', 'like', 'middle', 'east', 'respiratory', 'syndrome', 'mers', 'and', 'sudden', 'acute', 'respiratory', 'syndrome', 'sars', 'the', 'other', 'coronaviruses', 'cause', 'most', 'of', 'the', 'colds', 'that', 'affect', 'us', 'during', 'the', 'year', 'but', 'aren', '’', 't', 'a', 'serious', 'threat', 'for', 'otherwise', 'healthy', 'people', 'in', 'early', '2020', 'after', 'a', 'december', '2019', 'outbreak', 'in', 'china', 'the', 'world', 'health', 'organization', 'identified', 'sarscov2', 'as', 'a', 'new', 'type', 'of', 'coronavirus', 'the', 'outbreak', 'quickly', 'spread', 'around', 'the', 'world', 'is', 'there', 'more', 'than', 'one', 'strain', 'of', 'sarscov2', 'it', '’', 's', 'normal', 'for', 'a', 'virus', 'to', 'change', 'or', 'mutate', 'as', 'it', 'infects', 'people', 'a', 'chinese', 'study', 'of', '103', 'covid19', 'cases', 'suggests', 'the', 'virus', 'that', 'causes', 'it', 'has', 'done', 'just', 'that', 'they', 'found', 'two', 'strains', 'which', 'they', 'named', 'l', 'and', 's', 'the', 's', 'type', 'is', 'older', 'but', 'the', 'l', 'type', 'was', 'more', 'common', 'in', 'early', 'stages', 'of', 'the', 'outbreak', 'they', 'think', 'one', 'may', 'cause', 'more', 'cases', 'of', 'the', 'disease', 'than', 'the', 'other', 'but', 'they', '’', 're', 'still', 'working', 'on', 'what', 'it', 'all', 'means', 'how', 'long', 'will', 'the', 'coronavirus', 'last', 'it', '’', 's', 'too', 'soon', 'to', 'tell', 'how', 'long', 'the', 'pandemic', 'will', 'continue', 'it', 'depends', 'on', 'many', 'things', 'including', 'researchers', '’', 'work', 'to', 'learn', 'more', 'about', 'the', 'virus', 'their', 'search', 'for', 'a', 'treatment', 'and', 'a', 'vaccine', 'and', 'the', 'public', '’', 's', 'efforts', 'to', 'slow', 'the', 'spread', 'dozens', 'of', 'vaccine', 'candidates', 'are', 'in', 'various', 'stages', 'of', 'development', 'and', 'testing', 'this', 'process', 'usually', 'takes', 'years', 'researchers', 'are', 'speeding', 'it', 'up', 'as', 'much', 'as', 'they', 'can', 'but', 'it', 'still', 'might', 'take', '12', 'to', '18', 'months', 'to', 'find', 'a', 'vaccine', 'that', 'works', 'and', 'is', 'safe']\n"
          ],
          "name": "stdout"
        }
      ]
    },
    {
      "cell_type": "code",
      "metadata": {
        "id": "HbFX8SPurhxu",
        "colab_type": "code",
        "colab": {}
      },
      "source": [
        "GREETING_INPUTS=['hey','hi','hello','heya','howdy','whatsup','wassup','hola']\n",
        "GREETING_OUTPUTS=['hey!','hello!','heya!','howdy!','hey there!','holaa!']\n"
      ],
      "execution_count": 0,
      "outputs": []
    },
    {
      "cell_type": "code",
      "metadata": {
        "id": "luXX68PIt0iR",
        "colab_type": "code",
        "colab": {}
      },
      "source": [
        ""
      ],
      "execution_count": 0,
      "outputs": []
    }
  ]
}