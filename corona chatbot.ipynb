{
 "cells": [
  {
   "cell_type": "code",
   "execution_count": null,
   "metadata": {},
   "outputs": [],
   "source": [
    "#pip install nltk"
   ]
  },
  {
   "cell_type": "code",
   "execution_count": 1,
   "metadata": {},
   "outputs": [],
   "source": [
    "import nltk\n",
    "import io\n",
    "import numpy as np\n",
    "import string\n",
    "import random\n",
    "import warnings\n",
    "warnings.filterwarnings('ignore')\n"
   ]
  },
  {
   "cell_type": "code",
   "execution_count": 2,
   "metadata": {},
   "outputs": [],
   "source": [
    "f=open('D:\\coronaData.txt','r',errors='ignore')\n",
    "raw=f.read()"
   ]
  },
  {
   "cell_type": "code",
   "execution_count": 3,
   "metadata": {},
   "outputs": [],
   "source": [
    "raw=raw.lower()"
   ]
  },
  {
   "cell_type": "code",
   "execution_count": 4,
   "metadata": {},
   "outputs": [
    {
     "name": "stderr",
     "output_type": "stream",
     "text": [
      "[nltk_data] Downloading package punkt to\n",
      "[nltk_data]     C:\\Users\\DELL\\AppData\\Roaming\\nltk_data...\n",
      "[nltk_data]   Package punkt is already up-to-date!\n",
      "[nltk_data] Downloading package wordnet to\n",
      "[nltk_data]     C:\\Users\\DELL\\AppData\\Roaming\\nltk_data...\n",
      "[nltk_data]   Package wordnet is already up-to-date!\n"
     ]
    },
    {
     "data": {
      "text/plain": [
       "True"
      ]
     },
     "execution_count": 4,
     "metadata": {},
     "output_type": "execute_result"
    }
   ],
   "source": [
    "nltk.download('punkt')\n",
    "nltk.download('wordnet')"
   ]
  },
  {
   "cell_type": "code",
   "execution_count": 5,
   "metadata": {},
   "outputs": [],
   "source": [
    "sent_tokens=nltk.sent_tokenize(raw)\n",
    "word_tokens=nltk.word_tokenize(raw)"
   ]
  },
  {
   "cell_type": "code",
   "execution_count": 6,
   "metadata": {},
   "outputs": [
    {
     "data": {
      "text/plain": [
       "\"how can we protect others and ourselves if we don't know who is infected?\\npracticing hand and respir\""
      ]
     },
     "execution_count": 6,
     "metadata": {},
     "output_type": "execute_result"
    }
   ],
   "source": [
    "raw[:100]\n"
   ]
  },
  {
   "cell_type": "code",
   "execution_count": 7,
   "metadata": {},
   "outputs": [
    {
     "data": {
      "text/plain": [
       "[\"how can we protect others and ourselves if we don't know who is infected?\",\n",
       " 'practicing hand and respiratory hygiene is important at all times and is the best way to protect others and yourself.',\n",
       " 'when possible maintain at least a 1 meter distance between yourself and others.',\n",
       " 'this is especially important if you are standing by someone who is coughing or sneezing.',\n",
       " 'since some infected persons may not yet be exhibiting symptoms or their symptoms may be mild, maintaining a physical distance with everyone is a good idea if you are in an area where covid-19 is circulating.',\n",
       " 'coronaviruses are a large family of viruses which may cause illness in animals or humans.',\n",
       " 'in humans, several coronaviruses are known to cause respiratory infections ranging from the common cold to more severe diseases such as middle east respiratory syndrome (mers) and severe acute respiratory syndrome (sars).',\n",
       " 'the most recently discovered coronavirus causes coronavirus disease covid-19.',\n",
       " 'covid-19 is the infectious disease caused by the most recently discovered coronavirus.',\n",
       " 'this new virus and disease were unknown before the outbreak began in wuhan, china, in december 2019. covid-19 is now a pandemic affecting many countries globally\\nwhat are the symptoms of covid-19?']"
      ]
     },
     "execution_count": 7,
     "metadata": {},
     "output_type": "execute_result"
    }
   ],
   "source": [
    "sent_tokens[:10]"
   ]
  },
  {
   "cell_type": "code",
   "execution_count": 8,
   "metadata": {},
   "outputs": [
    {
     "data": {
      "text/plain": [
       "['how', 'can', 'we', 'protect', 'others', 'and', 'ourselves', 'if', 'we', 'do']"
      ]
     },
     "execution_count": 8,
     "metadata": {},
     "output_type": "execute_result"
    }
   ],
   "source": [
    "word_tokens[:10]"
   ]
  },
  {
   "cell_type": "code",
   "execution_count": 10,
   "metadata": {},
   "outputs": [],
   "source": [
    "lemmer=nltk.stem.WordNetLemmatizer()"
   ]
  },
  {
   "cell_type": "code",
   "execution_count": 11,
   "metadata": {},
   "outputs": [],
   "source": [
    "def LemTokens(tokens):\n",
    "    return [lemmer.lemmatize(token) for token in tokens]"
   ]
  },
  {
   "cell_type": "code",
   "execution_count": 12,
   "metadata": {},
   "outputs": [],
   "source": [
    "remove_punct_dict=dict((ord(punct),None) for punct in string.punctuation)"
   ]
  },
  {
   "cell_type": "code",
   "execution_count": 13,
   "metadata": {},
   "outputs": [],
   "source": [
    "def LemNormalize(text):\n",
    "    return LemTokens(nltk.word_tokenize(text.lower().translate(remove_punct_dict)))"
   ]
  },
  {
   "cell_type": "code",
   "execution_count": 14,
   "metadata": {},
   "outputs": [],
   "source": [
    "GREETING_INPUTS=('hi','hello','heya','howdy','greetings','hey','sup','hey there')"
   ]
  },
  {
   "cell_type": "code",
   "execution_count": 15,
   "metadata": {},
   "outputs": [],
   "source": [
    "GREETING_RESPONSES=('hi!!','heya!','howdy:)','hey there:D','glad you are talking to me!',)"
   ]
  },
  {
   "cell_type": "code",
   "execution_count": 16,
   "metadata": {},
   "outputs": [],
   "source": [
    "def greeting(sentence):\n",
    "    for word in sentence.split():\n",
    "        if word.lower() in GREETING_INPUTS:\n",
    "            return random.choice(GREETING_RESPONSES)"
   ]
  },
  {
   "cell_type": "code",
   "execution_count": 17,
   "metadata": {},
   "outputs": [],
   "source": [
    "from sklearn.feature_extraction.text import TfidfVectorizer\n",
    "from sklearn.metrics.pairwise import cosine_similarity"
   ]
  },
  {
   "cell_type": "code",
   "execution_count": 18,
   "metadata": {},
   "outputs": [],
   "source": [
    "def response(user_response):\n",
    "    chatbot_response=''\n",
    "    sent_tokens.append(user_response)\n",
    "    TfidfVec=TfidfVectorizer(tokenizer=LemNormalize,stop_words='english')\n",
    "    tfidf=TfidfVec.fit_transform(sent_tokens)\n",
    "    vals=cosine_similarity(tfidf[-1],tfidf)\n",
    "    idx=vals.argsort()[0][-2]\n",
    "    flat=vals.flatten()\n",
    "    flat.sort()\n",
    "    req_tfidf=flat[-2]\n",
    "    if(req_tfidf==0):\n",
    "        chatbot_response=chatbot_response+\"I'm sorry, I don't quite understand.\"\n",
    "        return chatbot_response\n",
    "    else:\n",
    "        chatbot_response=chatbot_response+sent_tokens[idx]\n",
    "        return chatbot_response\n",
    "    "
   ]
  },
  {
   "cell_type": "code",
   "execution_count": 19,
   "metadata": {},
   "outputs": [
    {
     "name": "stdout",
     "output_type": "stream",
     "text": [
      "Hey! I am chatbot. I will clear your queries about covid 19. Type'Bye' if you wish to exit.\n",
      "hey\n",
      "chatbot: heya!\n",
      "what is coronavirus?\n",
      "chatbot: the most recently discovered coronavirus causes coronavirus disease covid-19.\n",
      "what is covid-19?\n",
      "chatbot: people can catch covid-19 from others who have the virus.\n",
      "how to prevent covid-19\n",
      "chatbot: while some western, traditional or home remedies may provide comfort and alleviate symptoms of mild covid-19, there are no medicines that have been shown to prevent or cure the disease.\n",
      "how to cure coronavirus?\n",
      "chatbot: the most recently discovered coronavirus causes coronavirus disease covid-19.\n",
      "how does it spread?\n",
      "chatbot: who does not recommend self-medication with any medicines, including antibiotics, as a prevention or cure for covid-19.\n",
      "how does covid-19 spread?\n",
      "chatbot: covid-19 is mainly spread through droplets produced when an infected person coughs, sneezes, or speaks.\n",
      "how to cure covid-19?\n",
      "chatbot: who does not recommend self-medication with any medicines, including antibiotics, as a prevention or cure for covid-19.\n",
      "how many people have died?\n",
      "chatbot: some people become infected but only have very mild symptoms.\n",
      "how t detect covid-19\n",
      "chatbot: people can catch covid-19 from others who have the virus.\n",
      "bye\n",
      "chatbot: Bye! Take care!\n"
     ]
    }
   ],
   "source": [
    "flag=True\n",
    "print(\"Hey! I am chatbot. I will clear your queries about covid 19. Type'Bye' if you wish to exit.\")\n",
    "while(flag==True):\n",
    "    user_response=input()\n",
    "    user_response=user_response.lower()\n",
    "    if(user_response!='bye'):\n",
    "        if(user_response=='thanks' or user_response=='thank you'):\n",
    "            flag=false\n",
    "            print(\"chatbot: You are welcome\")\n",
    "        else:\n",
    "            if(greeting(user_response)!=None):\n",
    "                print(\"chatbot: \"+greeting(user_response))\n",
    "            else:\n",
    "                print(\"chatbot: \",end=\"\")\n",
    "                print(response(user_response))\n",
    "                sent_tokens.remove(user_response)\n",
    "                \n",
    "    else:\n",
    "        flag=False\n",
    "        print(\"chatbot: Bye! Take care!\")\n",
    "        \n",
    "    \n"
   ]
  },
  {
   "cell_type": "code",
   "execution_count": null,
   "metadata": {},
   "outputs": [],
   "source": []
  }
 ],
 "metadata": {
  "kernelspec": {
   "display_name": "Python 3",
   "language": "python",
   "name": "python3"
  },
  "language_info": {
   "codemirror_mode": {
    "name": "ipython",
    "version": 3
   },
   "file_extension": ".py",
   "mimetype": "text/x-python",
   "name": "python",
   "nbconvert_exporter": "python",
   "pygments_lexer": "ipython3",
   "version": "3.7.3"
  }
 },
 "nbformat": 4,
 "nbformat_minor": 2
}
